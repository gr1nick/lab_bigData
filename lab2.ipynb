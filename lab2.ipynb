{
  "nbformat": 4,
  "nbformat_minor": 0,
  "metadata": {
    "colab": {
      "provenance": [],
      "include_colab_link": true
    },
    "kernelspec": {
      "name": "python3",
      "display_name": "Python 3"
    },
    "language_info": {
      "name": "python"
    }
  },
  "cells": [
    {
      "cell_type": "markdown",
      "metadata": {
        "id": "view-in-github",
        "colab_type": "text"
      },
      "source": [
        "<a href=\"https://colab.research.google.com/github/gr1nick/lab_bigData/blob/master/lab2.ipynb\" target=\"_parent\"><img src=\"https://colab.research.google.com/assets/colab-badge.svg\" alt=\"Open In Colab\"/></a>"
      ]
    },
    {
      "cell_type": "markdown",
      "source": [
        "Перед началом выполнения работы необходимо загрузить и предварительно оценить данные из файла Orders.xlsx для определения численных и категориальных переменных."
      ],
      "metadata": {
        "id": "6lCLW5TmOSxH"
      }
    },
    {
      "cell_type": "code",
      "source": [
        "import pandas as pd\n",
        "import numpy as np\n",
        "import matplotlib.pyplot as plt"
      ],
      "metadata": {
        "id": "cEptC5F-33YL"
      },
      "execution_count": null,
      "outputs": []
    },
    {
      "cell_type": "code",
      "source": [
        "# Функция масштабирования данных\n",
        "def minmax_scale(data):\n",
        "    min_vals = data.min(axis=0)\n",
        "    max_vals = data.max(axis=0)\n",
        "    scale = max_vals - min_vals\n",
        "    return (data - min_vals) / scale, min_vals, scale\n",
        "\n",
        "# Функция нормализации данных\n",
        "def standardize(data):\n",
        "    mean_vals = data.mean(axis=0)\n",
        "    std_dev = data.std(axis=0)\n",
        "    return (data - mean_vals) / std_dev, mean_vals, std_dev\n",
        "\n",
        "def initialize_parameters(dim):\n",
        "    \"\"\"Инициализация весов и смещения нулями.\"\"\"\n",
        "    w = np.zeros((dim, 1))\n",
        "    b = 0\n",
        "    return w, b\n",
        "\n",
        "def sigmoid(z):\n",
        "    \"\"\"сигмоидная функция.\"\"\"\n",
        "    z = np.clip(z, -500, 500)  # Ограничение значений z для предотвращения переполнения\n",
        "    return 1 / (1 + np.exp(-z))\n",
        "\n",
        "def compute_loss(y, y_pred):\n",
        "    \"\"\"Вычисление логистической потери.\"\"\"\n",
        "    m = len(y)\n",
        "    y_pred = np.clip(y_pred, 1e-15, 1 - 1e-15)\n",
        "    loss = -(1/m) * np.sum(y * np.log(y_pred) + (1 - y) * np.log(1 - y_pred))\n",
        "    return loss\n",
        "\n",
        "def gradient_descent(X, y, w, b, learning_rate, iterations):\n",
        "    \"\"\"Градиентный спуск для обновления параметров модели.\"\"\"\n",
        "    m = len(y)\n",
        "    y = y.reshape(m, 1)  # Переформатирование для соответствия размерам\n",
        "\n",
        "    for i in range(iterations):\n",
        "        # Прямое распространение\n",
        "        z = np.dot(X, w) + b\n",
        "        y_pred = sigmoid(z)\n",
        "\n",
        "        # Вычисление градиентов\n",
        "        dw = (1 / m) * np.dot(X.T, (y_pred - y))\n",
        "        db = (1 / m) * np.sum(y_pred - y)\n",
        "\n",
        "        # Обновление параметров\n",
        "        w -= learning_rate * dw\n",
        "        b -= learning_rate * db\n",
        "\n",
        "        # Опционально: Вывод функции потерь каждые 100 итераций\n",
        "        if (i % 100 == 0) or (i % (iterations-1) == 0):\n",
        "            print(f\"Функция потерь при итерации {i}: {compute_loss(y, y_pred)}\")\n",
        "\n",
        "    return w, b\n",
        "\n",
        "def softmax(z):\n",
        "    \"\"\"Реализация функции softmax на чистом Python.\"\"\"\n",
        "    # Вычисляем экспоненту для каждого элемента вектора z\n",
        "    exp_scores = [np.exp(i) for i in z]\n",
        "    # Суммируем все экспоненты для нормализации\n",
        "    sum_exp_scores = sum(exp_scores)\n",
        "    # Делим каждую экспоненту на сумму всех экспонент для получения вероятностей\n",
        "    softmax_scores = [j / sum_exp_scores for j in exp_scores]\n",
        "    return softmax_scores\n",
        "\n",
        "def one_hot_encode(data, categorical_columns):\n",
        "    '''Реализация функции one-hot-encode на чистом Python.'''\n",
        "    # Копируем данные для избежания изменения исходного DataFrame\n",
        "    data = data.copy()\n",
        "    # Проходим по всем категориальным столбцам\n",
        "    for column in categorical_columns:\n",
        "        # Получаем уникальные значения для столбца\n",
        "        unique_values = set(data[column])\n",
        "        # Создаем словарь для новых столбцов однократного кодирования\n",
        "        for unique_value in unique_values:\n",
        "            # Создаем новый столбец для каждого уникального значения\n",
        "            column_name = f\"{column}_{unique_value}\"\n",
        "            data[column_name] = [1 if value == unique_value else 0 for value in data[column]]\n",
        "        # Удаляем исходный категориальный столбец\n",
        "        del data[column]\n",
        "    return data\n",
        "\n",
        "def predict(X, w, b):\n",
        "    \"\"\"Функция для предсказания классов с использованием обученных параметров.\"\"\"\n",
        "    z = np.dot(X, w) + b\n",
        "    y_pred = sigmoid(z)\n",
        "    y_pred_class = [1 if i > 0.5 else 0 for i in y_pred]  # Классификация как 1 или 0\n",
        "    return np.array(y_pred_class)"
      ],
      "metadata": {
        "id": "ZhHNhSpARlYw"
      },
      "execution_count": null,
      "outputs": []
    },
    {
      "cell_type": "code",
      "source": [
        "from google.colab import drive\n",
        "drive.mount('/content/drive')"
      ],
      "metadata": {
        "colab": {
          "base_uri": "https://localhost:8080/"
        },
        "id": "pSbu5Rl047nl",
        "outputId": "f10ee848-17e4-4c3f-a652-65c6512dbe14"
      },
      "execution_count": null,
      "outputs": [
        {
          "output_type": "stream",
          "name": "stdout",
          "text": [
            "Mounted at /content/drive\n"
          ]
        }
      ]
    },
    {
      "cell_type": "code",
      "source": [
        "file_path = '/content/drive/My Drive/Ncfu/BigData/Orders.xlsx'\n",
        "#Загрузка данных из файла Excel\n",
        "data = pd.read_excel(file_path)\n",
        "\n",
        "# Отображение первых строк данных для оценки структуры и определения типов переменных\n",
        "#data.head()"
      ],
      "metadata": {
        "id": "1gm0QBvi4E3P"
      },
      "execution_count": null,
      "outputs": []
    },
    {
      "cell_type": "markdown",
      "source": [
        "На основании предварительного просмотра данных, мы можем классифицировать переменные следующим образом:\n",
        "\n",
        "Численные переменные: Row ID, Postal Code, Sales, Quantity, Discount, Profit.\n",
        "Категориальные переменные: Order ID, Ship Mode, Customer ID, Customer Name, Segment, Country, City, State, Region, Product ID, Category, Sub-Category, Product Name."
      ],
      "metadata": {
        "id": "hjbE-dXVNujy"
      }
    },
    {
      "cell_type": "code",
      "source": [
        "# Проверка на наличие пропущенных значений в данных\n",
        "missing_values = data.isnull().sum()\n",
        "\n",
        "# Отображение количества пропущенных значений по каждому столбцу, если они есть\n",
        "missing_values[missing_values > 0]"
      ],
      "metadata": {
        "colab": {
          "base_uri": "https://localhost:8080/"
        },
        "id": "m6ZTvEBENtnV",
        "outputId": "6f5e01ac-b278-4676-baa7-2e5c9984bb8e"
      },
      "execution_count": null,
      "outputs": [
        {
          "output_type": "execute_result",
          "data": {
            "text/plain": [
              "Series([], dtype: int64)"
            ]
          },
          "metadata": {},
          "execution_count": 5
        }
      ]
    },
    {
      "cell_type": "code",
      "source": [
        "# Описательный анализ числовых переменных\n",
        "descriptive_stats = data.describe()\n",
        "\n",
        "# Построение корреляционной матрицы\n",
        "correlation_matrix = data.corr()\n",
        "\n",
        "# Вывод описательных статистик и корреляционной матрицы\n",
        "#print(descriptive_stats)\n",
        "#print(correlation_matrix)"
      ],
      "metadata": {
        "colab": {
          "base_uri": "https://localhost:8080/"
        },
        "id": "mgomwSdSSeix",
        "outputId": "7ba13181-a558-45ee-caae-ee23c175fb19"
      },
      "execution_count": null,
      "outputs": [
        {
          "output_type": "stream",
          "name": "stderr",
          "text": [
            "<ipython-input-6-519a31e3f041>:5: FutureWarning: The default value of numeric_only in DataFrame.corr is deprecated. In a future version, it will default to False. Select only valid columns or specify the value of numeric_only to silence this warning.\n",
            "  correlation_matrix = data.corr()\n"
          ]
        }
      ]
    },
    {
      "cell_type": "code",
      "source": [
        "# Список числовых признаков для гистограмм\n",
        "numeric_features = ['Sales', 'Quantity', 'Discount', 'Profit']\n",
        "\n",
        "# Построение гистограмм для каждого числового признака\n",
        "for feature in numeric_features:\n",
        "    plt.figure(figsize=(10, 4))\n",
        "    plt.hist(data[feature], bins=50, edgecolor='k')\n",
        "    plt.title('Гистограмма распределения для {}'.format(feature))\n",
        "    plt.xlabel(feature)\n",
        "    plt.ylabel('Количество')\n",
        "    plt.show()"
      ],
      "metadata": {
        "id": "UAbyhQtOSeum"
      },
      "execution_count": null,
      "outputs": []
    },
    {
      "cell_type": "code",
      "source": [
        "# Определение численных и категориальных переменных\n",
        "numeric_columns = ['Sales', 'Quantity', 'Discount', 'Profit']\n",
        "categorical_columns = ['Ship Mode', 'Segment', 'Region', 'Category', 'Sub-Category']"
      ],
      "metadata": {
        "id": "Ny8NoZqZUu1Q"
      },
      "execution_count": null,
      "outputs": []
    },
    {
      "cell_type": "code",
      "source": [
        "# Применение one-hot-encoding\n",
        "data_encoded = one_hot_encode(data, categorical_columns)"
      ],
      "metadata": {
        "id": "fiyRQtXjkQP3"
      },
      "execution_count": null,
      "outputs": []
    },
    {
      "cell_type": "code",
      "source": [
        "# Разделение на обучающую и тестовую выборки\n",
        "split_idx = int(len(data_encoded) * 0.7)\n",
        "data_train = data_encoded[:split_idx]\n",
        "data_test = data_encoded[split_idx:]\n"
      ],
      "metadata": {
        "id": "WwowZ0BYUvH-"
      },
      "execution_count": null,
      "outputs": []
    },
    {
      "cell_type": "code",
      "source": [
        "# Применение масштабирования и нормализации к обучающим данным\n",
        "X_train_scaled, min_vals, scale = minmax_scale(data_train[numeric_columns].values)\n",
        "X_train_normalized, mean_vals, std_dev = standardize(X_train_scaled)"
      ],
      "metadata": {
        "id": "XYInJfu_UvNO"
      },
      "execution_count": null,
      "outputs": []
    },
    {
      "cell_type": "code",
      "source": [
        "# Применение того же масштаба и нормализации к тестовым данным\n",
        "X_test_scaled = (data_test[numeric_columns].values - min_vals) / scale\n",
        "X_test_normalized = (X_test_scaled - mean_vals) / std_dev\n"
      ],
      "metadata": {
        "id": "RjKgjza3DXcz"
      },
      "execution_count": null,
      "outputs": []
    },
    {
      "cell_type": "code",
      "source": [
        "data_train = data_encoded[:split_idx].copy()\n",
        "data_test = data_encoded[split_idx:].copy()"
      ],
      "metadata": {
        "id": "eBap6_ANEM-J"
      },
      "execution_count": null,
      "outputs": []
    },
    {
      "cell_type": "code",
      "source": [
        "# Обновляем обучающие и тестовые данные\n",
        "data_train.loc[:, numeric_columns] = X_train_normalized\n",
        "data_test.loc[:, numeric_columns] = X_test_normalized"
      ],
      "metadata": {
        "id": "G3iSAKquUvPw"
      },
      "execution_count": null,
      "outputs": []
    },
    {
      "cell_type": "code",
      "source": [
        "# Выбор целевой переменной и исключение нечисловых столбцов\n",
        "median_profit = data_train['Profit'].median()\n",
        "data_train['Profit_class'] = (data_train['Profit'] > median_profit).astype(int)\n",
        "data_test['Profit_class'] = (data_test['Profit'] > median_profit).astype(int)"
      ],
      "metadata": {
        "id": "H5RQjPg9k_Sb"
      },
      "execution_count": null,
      "outputs": []
    },
    {
      "cell_type": "code",
      "source": [
        "X_train = data_train.drop(['Profit_class'], axis=1).values\n",
        "X_train = data_train[numeric_columns].values\n",
        "y_train = data_train['Profit_class'].values\n",
        "X_test = data_test.drop(['Profit_class'], axis=1).values\n",
        "X_test = data_test[numeric_columns].values\n",
        "y_test = data_test['Profit_class'].values\n"
      ],
      "metadata": {
        "id": "Exxmv6f_CD7t"
      },
      "execution_count": null,
      "outputs": []
    },
    {
      "cell_type": "code",
      "source": [
        "# Инициализация параметров\n",
        "w, b = initialize_parameters(X_train.shape[1])\n",
        "\n",
        "#градиентный спуск\n",
        "w, b = gradient_descent(X_train, y_train, w, b, learning_rate=3, iterations=2000)"
      ],
      "metadata": {
        "colab": {
          "base_uri": "https://localhost:8080/"
        },
        "id": "_Kuwu0F8mcGT",
        "outputId": "1565f2ab-b02b-423a-865e-2e8de79da7ab"
      },
      "execution_count": null,
      "outputs": [
        {
          "output_type": "stream",
          "name": "stdout",
          "text": [
            "Функция потерь при итерации 0: 0.6931471805599453\n",
            "Функция потерь при итерации 100: 0.3678653805756209\n",
            "Функция потерь при итерации 200: 0.33112905135695064\n",
            "Функция потерь при итерации 300: 0.30863538299323523\n",
            "Функция потерь при итерации 400: 0.2918840130532637\n",
            "Функция потерь при итерации 500: 0.2785159222158464\n",
            "Функция потерь при итерации 600: 0.2674131477739694\n",
            "Функция потерь при итерации 700: 0.2579387728641961\n",
            "Функция потерь при итерации 800: 0.24969249151215606\n",
            "Функция потерь при итерации 900: 0.24240572964284898\n",
            "Функция потерь при итерации 1000: 0.23588940769522818\n",
            "Функция потерь при итерации 1100: 0.2300053053252076\n",
            "Функция потерь при итерации 1200: 0.2246492624760866\n",
            "Функция потерь при итерации 1300: 0.21974080322265066\n",
            "Функция потерь при итерации 1400: 0.21521645152786775\n",
            "Функция потерь при итерации 1500: 0.21102526524217805\n",
            "Функция потерь при итерации 1600: 0.20712575235934974\n",
            "Функция потерь при итерации 1700: 0.2034836772394676\n",
            "Функция потерь при итерации 1800: 0.20007045902678455\n",
            "Функция потерь при итерации 1900: 0.19686197856479817\n",
            "Функция потерь при итерации 1999: 0.1938670690841903\n"
          ]
        }
      ]
    },
    {
      "cell_type": "code",
      "source": [
        "# Предсказание на тестовом наборе\n",
        "y_pred_test = predict(X_test, w, b)\n",
        "\n",
        "# Вычисление точности\n",
        "accuracy = np.mean(y_pred_test == y_test)\n",
        "print(f\"Точность модели на тестовом наборе: {accuracy}\")\n"
      ],
      "metadata": {
        "colab": {
          "base_uri": "https://localhost:8080/"
        },
        "id": "prKyvZjymklL",
        "outputId": "a8ae6176-c7d9-49ab-caaa-deaaf9ee63b7"
      },
      "execution_count": null,
      "outputs": [
        {
          "output_type": "stream",
          "name": "stdout",
          "text": [
            "Точность модели на тестовом наборе: 0.9359786595531844\n"
          ]
        }
      ]
    },
    {
      "cell_type": "markdown",
      "source": [
        "Данные без предобработки"
      ],
      "metadata": {
        "id": "0NztdTc4SHRf"
      }
    },
    {
      "cell_type": "code",
      "source": [
        "import pandas as pd\n",
        "import numpy as np\n"
      ],
      "metadata": {
        "id": "bSzsHcpP88-s"
      },
      "execution_count": null,
      "outputs": []
    },
    {
      "cell_type": "code",
      "source": [
        "file_path = '/content/drive/My Drive/Ncfu/BigData/Orders.xlsx'\n",
        "#Загрузка данных из файла Excel\n",
        "data = pd.read_excel(file_path)\n"
      ],
      "metadata": {
        "id": "Cyw6NWMW7vQM"
      },
      "execution_count": null,
      "outputs": []
    },
    {
      "cell_type": "code",
      "source": [
        "# Определение численных\n",
        "numeric_columns = ['Sales', 'Quantity', 'Discount', 'Profit', 'Row ID', 'Postal Code']\n",
        "# Создание бинарной целевой переменной\n",
        "data['Is_Profitable'] = (data['Profit'] > 0).astype(int)"
      ],
      "metadata": {
        "id": "Naj27c287vlu"
      },
      "execution_count": null,
      "outputs": []
    },
    {
      "cell_type": "code",
      "source": [
        "# Отбор только числовых столбцов для использования в модели\n",
        "X = data[numeric_columns].values  # Преобразование DataFrame в numpy array\n",
        "y = data['Is_Profitable'].values"
      ],
      "metadata": {
        "id": "PeshJnuF7vrt"
      },
      "execution_count": null,
      "outputs": []
    },
    {
      "cell_type": "code",
      "source": [
        "# Разделение на обучающую и тестовую выборки\n",
        "split_idx = int(len(X) * 0.7)\n",
        "X_train, X_test = X[:split_idx], X[split_idx:]\n",
        "y_train, y_test = y[:split_idx], y[split_idx:]"
      ],
      "metadata": {
        "id": "hY_RGzns7vxB"
      },
      "execution_count": null,
      "outputs": []
    },
    {
      "cell_type": "code",
      "source": [
        "# Инициализация параметров\n",
        "w, b = initialize_parameters(X_train.shape[1])"
      ],
      "metadata": {
        "id": "TegA17xz7v1J"
      },
      "execution_count": null,
      "outputs": []
    },
    {
      "cell_type": "code",
      "source": [
        "# Обучение модели\n",
        "w, b = gradient_descent(X_train, y_train, w, b, learning_rate=3, iterations=2000)"
      ],
      "metadata": {
        "colab": {
          "base_uri": "https://localhost:8080/"
        },
        "id": "nR9uSXJ09aZr",
        "outputId": "7234474a-e8f6-4b49-9c9e-b99e71b3eca0"
      },
      "execution_count": null,
      "outputs": [
        {
          "output_type": "stream",
          "name": "stdout",
          "text": [
            "Функция потерь при итерации 0: 6.710405114166012\n",
            "Функция потерь при итерации 100: 6.710405114166012\n",
            "Функция потерь при итерации 200: 27.793963163252634\n",
            "Функция потерь при итерации 300: 6.690654105735796\n",
            "Функция потерь при итерации 400: 6.710405114166012\n",
            "Функция потерь при итерации 500: 27.803838438848036\n",
            "Функция потерь при итерации 600: 6.710405114166012\n",
            "Функция потерь при итерации 700: 6.710405114166012\n",
            "Функция потерь при итерации 800: 27.601395289142342\n",
            "Функция потерь при итерации 900: 6.710405114166012\n",
            "Функция потерь при итерации 1000: 6.710405114166012\n",
            "Функция потерь при итерации 1100: 6.710405114166012\n",
            "Функция потерь при итерации 1200: 6.710405114166012\n",
            "Функция потерь при итерации 1300: 6.710405114166012\n",
            "Функция потерь при итерации 1400: 27.468079068604442\n",
            "Функция потерь при итерации 1500: 6.700529609950904\n",
            "Функция потерь при итерации 1600: 6.710405114166012\n",
            "Функция потерь при итерации 1700: 6.710405114166012\n",
            "Функция потерь при итерации 1800: 27.798900801050337\n",
            "Функция потерь при итерации 1900: 6.651151517326092\n",
            "Функция потерь при итерации 1999: 6.680778487210834\n"
          ]
        }
      ]
    },
    {
      "cell_type": "code",
      "source": [
        "y_pred_test = predict(X_test, w, b)\n",
        "accuracy = np.mean(y_pred_test == y_test)\n",
        "print(f\"Точность модели на тестовом наборе: {accuracy:.4f}\")"
      ],
      "metadata": {
        "colab": {
          "base_uri": "https://localhost:8080/"
        },
        "id": "Fmxmdp0D9ai1",
        "outputId": "c83d0623-ca3b-4d82-a482-db70c51e7abb"
      },
      "execution_count": null,
      "outputs": [
        {
          "output_type": "stream",
          "name": "stdout",
          "text": [
            "Точность модели на тестовом наборе: 0.8079\n"
          ]
        }
      ]
    },
    {
      "cell_type": "markdown",
      "source": [
        "softmax"
      ],
      "metadata": {
        "id": "Rc54QWLtwQHk"
      }
    },
    {
      "cell_type": "code",
      "source": [
        "\n",
        "from math import exp\n",
        "import pandas as pd\n",
        "import numpy as np\n",
        "file_path = '/content/drive/My Drive/Ncfu/BigData/Orders.xlsx'\n",
        "#Загрузка данных из файла Excel\n",
        "data = pd.read_excel(file_path)\n",
        "\n"
      ],
      "metadata": {
        "id": "-xvl5MhDx77f"
      },
      "execution_count": null,
      "outputs": []
    },
    {
      "cell_type": "code",
      "source": [
        "# Преобразование \"Segment\" в числовые метки\n",
        "segments = {'Consumer': 0, 'Corporate': 1, 'Home Office': 2}\n",
        "segment_labels = np.array(data['Segment'].apply(lambda x: segments[x]))\n",
        "\n",
        "# Выделяем числовые признаки для использования в модели\n",
        "features = data[['Sales', 'Quantity', 'Discount']].values"
      ],
      "metadata": {
        "id": "NuPJM4P_xkiR"
      },
      "execution_count": null,
      "outputs": []
    },
    {
      "cell_type": "code",
      "source": [
        "def softmax(z):\n",
        "    exp_scores = np.exp(z - np.max(z, axis=1, keepdims=True))\n",
        "    return exp_scores / np.sum(exp_scores, axis=1, keepdims=True)"
      ],
      "metadata": {
        "id": "uLBRtth2QfR3"
      },
      "execution_count": null,
      "outputs": []
    },
    {
      "cell_type": "code",
      "source": [
        "def cross_entropy_loss(y, y_hat):\n",
        "    m = y.shape[0]\n",
        "    epsilon = 1e-15  # Минимальное значение для предотвращения log(0)\n",
        "    y_hat = np.clip(y_hat, epsilon, 1 - epsilon)  # Ограничение значений y_hat\n",
        "    log_likelihood = -np.log(y_hat[np.arange(m), y])\n",
        "    return np.sum(log_likelihood) / m\n",
        "\n",
        "\n",
        "def gradient_descent(X, y, learning_rate=0.01, iterations=1000):\n",
        "    m, n = X.shape\n",
        "    W = np.random.rand(n, len(np.unique(y)))\n",
        "    b = np.zeros((1, len(np.unique(y))))\n",
        "\n",
        "    for i in range(iterations):\n",
        "        z = np.dot(X, W) + b\n",
        "        y_hat = softmax(z)\n",
        "\n",
        "        # One-hot encoding для y\n",
        "        y_one_hot = np.eye(len(np.unique(y)))[y]\n",
        "\n",
        "        # Вычисляем ошибку\n",
        "        error = y_hat - y_one_hot\n",
        "\n",
        "        # Вычисляем градиенты\n",
        "        dW = np.dot(X.T, error) / m\n",
        "        db = np.sum(error, axis=0) / m\n",
        "\n",
        "        # Обновляем параметры\n",
        "        W -= learning_rate * dW\n",
        "        b -= learning_rate * db\n",
        "\n",
        "        if i % 100 == 0:\n",
        "            print(f\"Итерация {i}, функция потерь: {cross_entropy_loss(y, y_hat)}\")\n",
        "\n",
        "    return W, b\n"
      ],
      "metadata": {
        "id": "rSa0WoG9K9MY"
      },
      "execution_count": null,
      "outputs": []
    },
    {
      "cell_type": "code",
      "source": [
        "np.random.seed(42)  # Для воспроизводимости\n",
        "indices = np.arange(features.shape[0])\n",
        "np.random.shuffle(indices)\n",
        "\n",
        "# Разделение индексов для обучающего и тестового наборов\n",
        "split_idx = int(len(indices) * 0.8)  # 80% данных для обучения, 20% для тестирования\n",
        "\n",
        "train_indices = indices[:split_idx]\n",
        "test_indices = indices[split_idx:]\n",
        "\n",
        "\n",
        "\n",
        "\n",
        "# Создание обучающих и тестовых наборов\n",
        "X_train, X_test = features[train_indices], features[test_indices]\n",
        "y_train, y_test = segment_labels[train_indices], segment_labels[test_indices]\n",
        "\n",
        "mean = np.mean(X_train, axis=0)\n",
        "std = np.std(X_train, axis=0)\n",
        "X_train = (X_train - mean) / std\n",
        "X_test = (X_test - mean) / std\n"
      ],
      "metadata": {
        "id": "IIzraYUJK9fT"
      },
      "execution_count": null,
      "outputs": []
    },
    {
      "cell_type": "code",
      "source": [
        "W, b = gradient_descent(X_train, y_train, learning_rate=0.01, iterations=1000)"
      ],
      "metadata": {
        "colab": {
          "base_uri": "https://localhost:8080/"
        },
        "id": "hGu7F4rgRIJ-",
        "outputId": "72e85fc7-f77e-4bb3-c2ad-b51ee2cd47fb"
      },
      "execution_count": null,
      "outputs": [
        {
          "output_type": "stream",
          "name": "stdout",
          "text": [
            "Итерация 0, функция потерь: 1.1923027555721792\n",
            "Итерация 10, функция потерь: 1.180647496576897\n",
            "Итерация 20, функция потерь: 1.1697557628894066\n",
            "Итерация 30, функция потерь: 1.1595821635707448\n",
            "Итерация 40, функция потерь: 1.1500830722046085\n",
            "Итерация 50, функция потерь: 1.1412167045596695\n",
            "Итерация 60, функция потерь: 1.1329431690993461\n",
            "Итерация 70, функция потерь: 1.1252244934181181\n",
            "Итерация 80, функция потерь: 1.118024629656654\n",
            "Итерация 90, функция потерь: 1.1113094418491078\n",
            "Итерация 100, функция потерь: 1.1050466780028267\n",
            "Итерация 110, функция потерь: 1.0992059295192853\n",
            "Итерация 120, функция потерь: 1.0937585803488923\n",
            "Итерация 130, функция потерь: 1.088677748042833\n",
            "Итерация 140, функция потерь: 1.0839382186314843\n",
            "Итерация 150, функция потерь: 1.0795163770284582\n",
            "Итерация 160, функция потерь: 1.0753901344374446\n",
            "Итерация 170, функция потерь: 1.071538854029686\n",
            "Итерация 180, функция потерь: 1.0679432759657495\n",
            "Итерация 190, функция потерь: 1.0645854426578696\n",
            "Итерация 200, функция потерь: 1.0614486250091641\n",
            "Итерация 210, функция потерь: 1.0585172502235873\n",
            "Итерация 220, функция потерь: 1.0557768316550449\n",
            "Итерация 230, функция потерь: 1.053213901054861\n",
            "Итерация 240, функция потерь: 1.0508159434826756\n",
            "Итерация 250, функция потерь: 1.048571335065629\n",
            "Итерация 260, функция потерь: 1.046469283723061\n",
            "Итерация 270, функция потерь: 1.0444997729176078\n",
            "Итерация 280, функция потерь: 1.0426535084472288\n",
            "Итерация 290, функция потерь: 1.0409218682550914\n",
            "Итерация 300, функция потерь: 1.0392968552042607\n",
            "Итерация 310, функция потерь: 1.0377710527407211\n",
            "Итерация 320, функция потерь: 1.0363375833503814\n",
            "Итерация 330, функция потерь: 1.0349900697026202\n",
            "Итерация 340, функция потерь: 1.0337225983637386\n",
            "Итерация 350, функция потерь: 1.032529685957814\n",
            "Итерация 360, функция потерь: 1.0314062476492458\n",
            "Итерация 370, функция потерь: 1.0303475678202874\n",
            "Итерация 380, функция потерь: 1.0293492728175837\n",
            "Итерация 390, функция потерь: 1.0284073056438685\n",
            "Итерация 400, функция потерь: 1.0275179024741419\n",
            "Итерация 410, функция потерь: 1.0266775708796394\n",
            "Итерация 420, функция потерь: 1.0258830696474626\n",
            "Итерация 430, функция потерь: 1.0251313900887014\n",
            "Итерация 440, функция потерь: 1.0244197387330929\n",
            "Итерация 450, функция потерь: 1.0237455213136086\n",
            "Итерация 460, функция потерь: 1.0231063279497403\n",
            "Итерация 470, функция потерь: 1.0224999194435944\n",
            "Итерация 480, функция потерь: 1.0219242146081515\n",
            "Итерация 490, функция потерь: 1.0213772785521376\n",
            "Итерация 500, функция потерь: 1.020857311850881\n",
            "Итерация 510, функция потерь: 1.0203626405372421\n",
            "Итерация 520, функция потерь: 1.0198917068512077\n",
            "Итерация 530, функция потерь: 1.0194430606910154\n",
            "Итерация 540, функция потерь: 1.0190153517127205\n",
            "Итерация 550, функция потерь: 1.0186073220289273\n",
            "Итерация 560, функция потерь: 1.0182177994609938\n",
            "Итерация 570, функция потерь: 1.017845691302374\n",
            "Итерация 580, функция потерь: 1.0174899785539155\n",
            "Итерация 590, функция потерь: 1.0171497105948528\n",
            "Итерация 600, функция потерь: 1.0168240002559747\n",
            "Итерация 610, функция потерь: 1.016512019264001\n",
            "Итерация 620, функция потерь: 1.0162129940285465\n",
            "Итерация 630, функция потерь: 1.0159262017452657\n",
            "Итерация 640, функция потерь: 1.0156509667907947\n",
            "Итерация 650, функция потерь: 1.0153866573869914\n",
            "Итерация 660, функция потерь: 1.0151326825137281\n",
            "Итерация 670, функция потерь: 1.0148884890510905\n",
            "Итерация 680, функция потерь: 1.0146535591333408\n",
            "Итерация 690, функция потерь: 1.0144274076983668\n",
            "Итерация 700, функция потерь: 1.0142095802176194\n",
            "Итерация 710, функция потерь: 1.0139996505927074\n",
            "Итерация 720, функция потерь: 1.0137972192059035\n",
            "Итерация 730, функция потерь: 1.0136019111128087\n",
            "Итерация 740, функция потерь: 1.0134133743663487\n",
            "Итерация 750, функция потерь: 1.0132312784621103\n",
            "Итерация 760, функция потерь: 1.0130553128958215\n",
            "Итерация 770, функция потерь: 1.0128851858244865\n",
            "Итерация 780, функция потерь: 1.0127206228233527\n",
            "Итерация 790, функция потерь: 1.0125613657314987\n",
            "Итерация 800, функция потерь: 1.0124071715793899\n",
            "Итерация 810, функция потерь: 1.0122578115922676\n",
            "Итерация 820, функция потерь: 1.0121130702637158\n",
            "Итерация 830, функция потерь: 1.0119727444941828\n",
            "Итерация 840, функция потерь: 1.0118366427896437\n",
            "Итерация 850, функция потерь: 1.0117045845159576\n",
            "Итерация 860, функция потерь: 1.0115763992048221\n",
            "Итерация 870, функция потерь: 1.0114519259075303\n",
            "Итерация 880, функция потерь: 1.011331012593045\n",
            "Итерация 890, функция потерь: 1.0112135155871491\n",
            "Итерация 900, функция потерь: 1.0110992990497008\n",
            "Итерация 910, функция потерь: 1.0109882344872305\n",
            "Итерация 920, функция потерь: 1.0108802002983353\n",
            "Итерация 930, функция потерь: 1.0107750813495198\n",
            "Итерация 940, функция потерь: 1.0106727685793024\n",
            "Итерация 950, функция потерь: 1.0105731586285789\n",
            "Итерация 960, функция потерь: 1.0104761534953772\n",
            "Итерация 970, функция потерь: 1.010381660212288\n",
            "Итерация 980, функция потерь: 1.0102895905449687\n",
            "Итерация 990, функция потерь: 1.0101998607102505\n"
          ]
        }
      ]
    },
    {
      "cell_type": "code",
      "source": [
        "def predict(X, W, b):\n",
        "    z = np.dot(X, W) + b\n",
        "    probabilities = softmax(z)\n",
        "    return np.argmax(probabilities, axis=1)  # Возвращаем индексы максимальных вероятностей\n",
        "\n",
        "# Получаем предсказания на тестовом наборе\n",
        "predictions = predict(X_test, W, b)\n",
        "\n",
        "# Вычисляем точность как долю правильно предсказанных меток\n",
        "accuracy = np.mean(predictions == y_test)\n",
        "print(f\"Точность модели: {accuracy:.4f}\")"
      ],
      "metadata": {
        "colab": {
          "base_uri": "https://localhost:8080/"
        },
        "id": "9nyiX7QpwySb",
        "outputId": "7da6df00-fc34-43b8-bbef-8ec91cf6effc"
      },
      "execution_count": null,
      "outputs": [
        {
          "output_type": "stream",
          "name": "stdout",
          "text": [
            "Точность модели: 0.5153\n"
          ]
        }
      ]
    }
  ]
}